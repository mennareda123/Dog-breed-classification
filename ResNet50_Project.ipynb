{
  "cells": [
    {
      "cell_type": "markdown",
      "metadata": {
        "id": "duhu58iZ4XWC"
      },
      "source": [
        "# Data"
      ]
    },
    {
      "cell_type": "markdown",
      "metadata": {
        "id": "0vpydLEK4cLO"
      },
      "source": [
        "## Download data"
      ]
    },
    {
      "cell_type": "code",
      "execution_count": null,
      "metadata": {
        "colab": {
          "base_uri": "https://localhost:8080/"
        },
        "id": "jI9AtSoeTUkQ",
        "outputId": "ba90e89e-8de2-40da-a0b1-d10fdcc930a4"
      },
      "outputs": [],
      "source": [
        "import kagglehub\n",
        "\n",
        "# Download latest version\n",
        "path = kagglehub.dataset_download(\"gpiosenka/70-dog-breedsimage-data-set\")\n",
        "\n",
        "print(\"Path to dataset files:\", path)"
      ]
    },
    {
      "cell_type": "markdown",
      "metadata": {
        "id": "FsbrREdf4mx_"
      },
      "source": [
        "## load data"
      ]
    },
    {
      "cell_type": "code",
      "execution_count": 2,
      "metadata": {
        "id": "ACRk8Lzh4luS"
      },
      "outputs": [],
      "source": [
        "import pandas as pd\n",
        "import os"
      ]
    },
    {
      "cell_type": "code",
      "execution_count": 19,
      "metadata": {
        "id": "2ozkXdkwX8ai"
      },
      "outputs": [],
      "source": [
        "dog_train ='/kaggle/input/70-dog-breedsimage-data-set/train'\n",
        "dog_valid ='/kaggle/input/70-dog-breedsimage-data-set/valid'"
      ]
    },
    {
      "cell_type": "code",
      "execution_count": 20,
      "metadata": {
        "id": "JvDcgjNA2zZc"
      },
      "outputs": [],
      "source": [
        "def make_dataframe(data_dir):\n",
        "    filepaths = []\n",
        "    labels = []\n",
        "\n",
        "    for label in os.listdir(data_dir):\n",
        "        class_dir = os.path.join(data_dir, label)\n",
        "        if os.path.isdir(class_dir):\n",
        "            for file in os.listdir(class_dir):\n",
        "                filepaths.append(os.path.join(class_dir, file))\n",
        "                labels.append(label)\n",
        "\n",
        "    return pd.DataFrame({'filename': filepaths, 'class': labels})"
      ]
    },
    {
      "cell_type": "code",
      "execution_count": 21,
      "metadata": {
        "id": "rVp0Ih7V6GZI"
      },
      "outputs": [],
      "source": [
        "train_df = make_dataframe(dog_train)\n",
        "valid_df = make_dataframe(dog_valid)"
      ]
    },
    {
      "cell_type": "code",
      "execution_count": 22,
      "metadata": {
        "colab": {
          "base_uri": "https://localhost:8080/",
          "height": 423
        },
        "id": "rujaIsGJh8W_",
        "outputId": "2e0b16f5-a187-46a4-8356-2b19bb2ee6b2"
      },
      "outputs": [],
      "source": [
        "train_df.head(400)"
      ]
    },
    {
      "cell_type": "markdown",
      "metadata": {
        "id": "XxajqMHh47ER"
      },
      "source": [
        "## Augmentation data"
      ]
    },
    {
      "cell_type": "code",
      "execution_count": 23,
      "metadata": {
        "id": "vnaSONzNkSxc"
      },
      "outputs": [],
      "source": [
        "from tensorflow.keras.preprocessing.image import ImageDataGenerator\n",
        "datagen_train = ImageDataGenerator(\n",
        "    rescale=1./255,\n",
        "    rotation_range=30,\n",
        "    width_shift_range=0.2,\n",
        "    height_shift_range=0.2,\n",
        "    zoom_range=0.2,\n",
        "    horizontal_flip=True,\n",
        "    brightness_range=[0.8,1.2],\n",
        "    fill_mode='nearest'\n",
        ")"
      ]
    },
    {
      "cell_type": "code",
      "execution_count": 24,
      "metadata": {
        "id": "Tee73QVzkUWk"
      },
      "outputs": [],
      "source": [
        "datagen_valid = ImageDataGenerator(rescale=1./255)"
      ]
    },
    {
      "cell_type": "code",
      "execution_count": null,
      "metadata": {
        "id": "k9xM-RSjmF03"
      },
      "outputs": [],
      "source": [
        "train_gen = datagen_train.flow_from_dataframe(\n",
        "    dataframe=train_df,\n",
        "    x_col='filename',\n",
        "    y_col='class',\n",
        "    target_size=(224,224),\n",
        "    batch_size = 50,\n",
        "    class_mode='categorical',\n",
        "    shuffle=True\n",
        "    )"
      ]
    },
    {
      "cell_type": "code",
      "execution_count": null,
      "metadata": {
        "id": "iFtZs9ZDpyAv"
      },
      "outputs": [],
      "source": [
        "val_gen = datagen_valid.flow_from_dataframe(\n",
        "    dataframe =valid_df,\n",
        "    x_col='filename',\n",
        "    y_col='class',\n",
        "    target_size=(224,224),\n",
        "    batch_size = 50,\n",
        "    class_mode='categorical',\n",
        "    shuffle=False\n",
        ")"
      ]
    },
    {
      "cell_type": "markdown",
      "metadata": {
        "id": "5LkaUDcZrqPC"
      },
      "source": [
        "\n",
        "\n",
        "# Model\n",
        "\n",
        "\n"
      ]
    },
    {
      "cell_type": "markdown",
      "metadata": {
        "id": "s7DzUpKwrvTQ"
      },
      "source": [
        "## ResNet"
      ]
    },
    {
      "cell_type": "code",
      "execution_count": null,
      "metadata": {
        "id": "vVfWrsVQqZk9"
      },
      "outputs": [],
      "source": [
        "from tensorflow.keras.applications import ResNet50\n",
        "from tensorflow.keras.models import Model\n",
        "from tensorflow.keras.layers import Dense, GlobalAveragePooling2D, Dropout\n",
        "from tensorflow.keras.optimizers import Adam\n"
      ]
    },
    {
      "cell_type": "markdown",
      "metadata": {
        "id": "lxUBmmzW6zb3"
      },
      "source": [
        "# new layers , output layer"
      ]
    },
    {
      "cell_type": "code",
      "execution_count": null,
      "metadata": {
        "id": "BAw0QaRAsRxK"
      },
      "outputs": [],
      "source": [
        "# Load pre-trained EfficientNetB0 without الـ top\n",
        "base_model = ResNet50(weights='imagenet', include_top=False, input_shape=(224, 224, 3))\n",
        "\n",
        "# Freeze the base model to save time\n",
        "for layer in base_model.layers[-4:]:\n",
        "    layer.trainable = True\n",
        "\n",
        "x = base_model.output\n",
        "x = GlobalAveragePooling2D()(x)   \n",
        "x = Dense(256, activation='relu')(x)\n",
        "x = Dropout(0.5)(x)               \n",
        "predictions = Dense(70, activation='softmax')(x)  \n",
        "\n",
        "\n",
        "model = Model(inputs=base_model.input, outputs=predictions)\n"
      ]
    },
    {
      "cell_type": "code",
      "execution_count": null,
      "metadata": {
        "id": "ROiDnVU9vEMb"
      },
      "outputs": [],
      "source": [
        "model.compile(optimizer=Adam(learning_rate=0.0001),\n",
        "              loss='categorical_crossentropy',\n",
        "              metrics=['accuracy'])"
      ]
    },
    {
      "cell_type": "code",
      "execution_count": 30,
      "metadata": {
        "colab": {
          "base_uri": "https://localhost:8080/",
          "height": 1000
        },
        "collapsed": true,
        "id": "4zpP76IAzoWE",
        "outputId": "32ff29fb-ce7b-463e-b79b-db11b562fd0f"
      },
      "outputs": [],
      "source": [
        "model.summary()"
      ]
    },
    {
      "cell_type": "code",
      "execution_count": null,
      "metadata": {
        "colab": {
          "base_uri": "https://localhost:8080/"
        },
        "id": "JuQpCgaCz5-G",
        "outputId": "8e3c0269-3f32-4ae5-a336-ce1ce090c207"
      },
      "outputs": [],
      "source": [
        "history = model.fit(train_gen,epochs=5,validation_data=val_gen)"
      ]
    },
    {
      "cell_type": "code",
      "execution_count": null,
      "metadata": {
        "id": "qkZlXG_50eVT"
      },
      "outputs": [],
      "source": [
        "model.save('dog_project.keras')\n"
      ]
    },
    {
      "cell_type": "code",
      "execution_count": null,
      "metadata": {
        "id": "b4jzYCxRvpSp"
      },
      "outputs": [],
      "source": [
        "import matplotlib.pyplot as plt\n",
        "\n",
        "# Accuracy\n",
        "plt.plot(history.history['accuracy'], label='Training Accuracy')\n",
        "plt.plot(history.history['val_accuracy'], label='Validation Accuracy')\n",
        "plt.legend()\n",
        "plt.title(\"Training vs Validation Accuracy\")\n",
        "plt.savefig(\"images/accuracy.png\")\n",
        "plt.show()\n",
        "\n",
        "# Loss\n",
        "plt.plot(history.history['loss'], label='Training Loss')\n",
        "plt.plot(history.history['val_loss'], label='Validation Loss')\n",
        "plt.legend()\n",
        "plt.title(\"Training vs Validation Loss\")\n",
        "plt.savefig(\"images/loss.png\")\n",
        "plt.show()\n"
      ]
    },
    {
      "cell_type": "markdown",
      "metadata": {
        "id": "0xtRPDtZ0mXI"
      },
      "source": [
        "# Deployment"
      ]
    },
    {
      "cell_type": "code",
      "execution_count": null,
      "metadata": {
        "id": "PZ_XCqpY0jn4"
      },
      "outputs": [],
      "source": [
        "model.save('dog_project.keras')\n"
      ]
    },
    {
      "cell_type": "code",
      "execution_count": null,
      "metadata": {
        "id": "qJScjNY605et"
      },
      "outputs": [],
      "source": [
        "import tensorflow as tf\n",
        "temp = tf.keras.models.load_model('dog_project.keras')"
      ]
    },
    {
      "cell_type": "code",
      "execution_count": null,
      "metadata": {
        "id": "d87y2Umv05bs"
      },
      "outputs": [],
      "source": [
        "temp.evaluate(val_gen)"
      ]
    },
    {
      "cell_type": "code",
      "execution_count": null,
      "metadata": {
        "collapsed": true,
        "id": "MbeHHHfG05ZD"
      },
      "outputs": [],
      "source": [
        "temp.summary()"
      ]
    }
  ],
  "metadata": {
    "accelerator": "GPU",
    "colab": {
      "gpuType": "T4",
      "provenance": []
    },
    "kernelspec": {
      "display_name": "Python 3",
      "name": "python3"
    },
    "language_info": {
      "name": "python"
    }
  },
  "nbformat": 4,
  "nbformat_minor": 0
}
